{
 "cells": [
  {
   "cell_type": "markdown",
   "id": "d2360b90-ad3e-49ea-be27-52f088899d48",
   "metadata": {},
   "source": [
    "### Problem 3\n"
   ]
  },
  {
   "cell_type": "code",
   "execution_count": 1,
   "id": "d2dc6305-46fc-4f03-b1b9-c874091ad14b",
   "metadata": {},
   "outputs": [],
   "source": [
    "# %load ../standard_import.txt\n",
    "import pandas as pd\n",
    "import numpy as np\n",
    "\n",
    "import matplotlib as mpl\n",
    "import matplotlib.pyplot as plt\n",
    "import seaborn as sns\n",
    "\n",
    "import sklearn.linear_model as skl_lm\n",
    "\n",
    "from sklearn.discriminant_analysis import LinearDiscriminantAnalysis\n",
    "from sklearn.discriminant_analysis import QuadraticDiscriminantAnalysis\n",
    "\n",
    "from sklearn.metrics import confusion_matrix, classification_report, precision_score, mean_squared_error, accuracy_score\n",
    "from sklearn import preprocessing\n",
    "from sklearn import neighbors\n",
    "\n",
    "from sklearn.model_selection import train_test_split, LeaveOneOut, KFold, cross_val_score\n",
    "from sklearn.preprocessing import PolynomialFeatures\n",
    "\n",
    "\n",
    "import statsmodels.api as sm\n",
    "import statsmodels.formula.api as smf\n",
    "\n",
    "%matplotlib inline\n",
    "plt.style.use(\"seaborn-v0_8\") "
   ]
  },
  {
   "cell_type": "markdown",
   "id": "9eb7a9af-d96f-468f-9390-655500e02a1b",
   "metadata": {},
   "source": [
    "### a) Generate a simulated data set as follows:"
   ]
  },
  {
   "cell_type": "code",
   "execution_count": 2,
   "id": "7c05ede9-e225-4395-a6a0-b18a583187e5",
   "metadata": {},
   "outputs": [],
   "source": [
    "np.random.seed(42)\n",
    "mu, sigma = 0, 1 # mean and standard deviation\n",
    "x = np.random.normal(mu, sigma, 100)\n",
    "n = np.random.normal(mu, sigma, 100)\n",
    "y = x - 2*x**2+n"
   ]
  },
  {
   "cell_type": "markdown",
   "id": "ebd9e0ac-2d46-4b6b-8a07-2379ea146e63",
   "metadata": {},
   "source": [
    "### b) Create a scatterplot of X against Y . Comment on what you find."
   ]
  },
  {
   "cell_type": "code",
   "execution_count": 3,
   "id": "ba7a69db-c99d-4b34-bb0c-0ffb52e3f245",
   "metadata": {},
   "outputs": [
    {
     "data": {
      "text/plain": [
       "Text(0, 0.5, 'Y')"
      ]
     },
     "execution_count": 3,
     "metadata": {},
     "output_type": "execute_result"
    },
    {
     "data": {
      "image/png": "[encoded data removed]",
      "text/plain": [
       "<Figure size 800x550 with 1 Axes>"
      ]
     },
     "metadata": {},
     "output_type": "display_data"
    }
   ],
   "source": [
    "%matplotlib inline\n",
    "plt.scatter( x, y)\n",
    "plt.xlabel('X')\n",
    "plt.ylabel('Y')\n"
   ]
  },
  {
   "cell_type": "markdown",
   "id": "05225b3f-443c-4570-95ec-976b80eab21f",
   "metadata": {},
   "source": [
    "### c) Set a random seed, and then compute the LOOCV errors that result from fitting the following four models using least squares:"
   ]
  },
  {
   "cell_type": "code",
   "execution_count": 4,
   "id": "a9238d73-50bf-452e-a57e-f5724d1257f9",
   "metadata": {},
   "outputs": [],
   "source": [
    "#Derivation Function call\n",
    "def Calc_loocv_error(x, y, regr):\n",
    "    loocv = LeaveOneOut()\n",
    "    errors = []\n",
    "    for train_index, test_index in loocv.split(x):\n",
    "        x_train, x_test = x[train_index], x[test_index]\n",
    "        y_train, y_test = y[train_index], y[test_index]\n",
    "        regr.fit(x_train, y_train)\n",
    "        coefficients = regr.coef_\n",
    "        #print(coefficients) #Uncomment this to see the coefficients\n",
    "        y_pred = regr.predict(x_test.reshape(1, -1))\n",
    "        error = mean_squared_error(y_test, y_pred)\n",
    "        errors.append(error)\n",
    "    return np.mean(errors)"
   ]
  },
  {
   "cell_type": "markdown",
   "id": "44b36ed0-7711-4dd9-80b1-288985c6c294",
   "metadata": {},
   "source": [
    "###"
   ]
  },
  {
   "cell_type": "code",
   "execution_count": 5,
   "id": "271c096e-5fd6-4c86-a828-fcefb9700070",
   "metadata": {},
   "outputs": [
    {
     "name": "stdout",
     "output_type": "stream",
     "text": [
      "Degree 1 Polynomial: LOOCV Error = 5.302956627689594\n",
      "Degree 2 Polynomial: LOOCV Error = 0.9127641950599265\n",
      "Degree 3 Polynomial: LOOCV Error = 0.956957297774952\n",
      "Degree 4 Polynomial: LOOCV Error = 0.9727724672791456\n",
      "Degree 5 Polynomial: LOOCV Error = 1.5343128197581897\n",
      "Degree 6 Polynomial: LOOCV Error = 4.663132477358613\n",
      "Degree 7 Polynomial: LOOCV Error = 8.737679597463615\n"
     ]
    }
   ],
   "source": [
    "# Set random seed (42)\n",
    "np.random.seed(42)\n",
    "\n",
    "#----------------------------------------------------------\n",
    "# Given data\n",
    "mu, sigma = 0, 1\n",
    "x = np.random.normal(mu, sigma, 100)\n",
    "n = np.random.normal(mu, sigma, 100)\n",
    "y = x - 2 * x**2 + n\n",
    "#-----------------------------------------------------------\n",
    "\n",
    "\n",
    "\n",
    "# Define degrees for polynomial regression models\n",
    "degrees = [1, 2, 3, 4, 5, 6, 7]\n",
    "\n",
    "# Compute LOOCV errors for each model\n",
    "for degree in degrees:\n",
    "    poly_features = PolynomialFeatures(degree=degree)\n",
    "    x_poly = poly_features.fit_transform(x.reshape(-1, 1))\n",
    "    regr = skl_lm.LinearRegression()\n",
    "    loocv_error = Calc_loocv_error(x_poly, y, regr)\n",
    "    print(f\"Degree {degree} Polynomial: LOOCV Error = {loocv_error:}\")\n"
   ]
  },
  {
   "cell_type": "markdown",
   "id": "4a8eaaf3-39a7-4a94-aa5c-74b211f1f3d9",
   "metadata": {},
   "source": [
    "### d) Repeat (c) using another random seed, and report your results. Are your results the same as what you got in (c)? Why?"
   ]
  },
  {
   "cell_type": "code",
   "execution_count": 6,
   "id": "792309df-b517-489d-b628-aae7f0d9f18e",
   "metadata": {},
   "outputs": [
    {
     "name": "stdout",
     "output_type": "stream",
     "text": [
      "Degree 1 Polynomial: LOOCV Error = 9.429508728455424\n",
      "Degree 2 Polynomial: LOOCV Error = 1.0376998969927405\n",
      "Degree 3 Polynomial: LOOCV Error = 1.0710664600733875\n",
      "Degree 4 Polynomial: LOOCV Error = 1.092551079915061\n",
      "Degree 5 Polynomial: LOOCV Error = 1.115553736672735\n",
      "Degree 6 Polynomial: LOOCV Error = 1.1296276012892337\n",
      "Degree 7 Polynomial: LOOCV Error = 1.1873677348117122\n"
     ]
    }
   ],
   "source": [
    "# Set random seed (80)\n",
    "np.random.seed(10)\n",
    "\n",
    "#----------------------------------------------------------\n",
    "# Given data\n",
    "mu, sigma = 0, 1\n",
    "x = np.random.normal(mu, sigma, 100)\n",
    "n = np.random.normal(mu, sigma, 100)\n",
    "y = x - 2 * x**2 + n\n",
    "#-----------------------------------------------------------\n",
    "\n",
    "\n",
    "# Define degrees for polynomial regression models\n",
    "degrees = [1, 2, 3, 4, 5, 6, 7]\n",
    "\n",
    "# Compute LOOCV errors for each model\n",
    "for degree in degrees:\n",
    "    poly_features = PolynomialFeatures(degree=degree)\n",
    "    x_poly = poly_features.fit_transform(x.reshape(-1, 1))\n",
    "    regr = skl_lm.LinearRegression()\n",
    "    loocv_error = Calc_loocv_error(x_poly, y, regr)\n",
    "    print(f\"Degree {degree} Polynomial: LOOCV Error = {loocv_error:}\")\n"
   ]
  },
  {
   "cell_type": "code",
   "execution_count": null,
   "id": "43e4835b-df06-4e5d-8c49-3008245a4924",
   "metadata": {},
   "outputs": [],
   "source": []
  },
  {
   "cell_type": "code",
   "execution_count": null,
   "id": "fbba578f-50d9-4d29-aa4f-caa847627cfd",
   "metadata": {},
   "outputs": [],
   "source": []
  }
 ],
 "metadata": {
  "kernelspec": {
   "display_name": "Python 3 (ipykernel)",
   "language": "python",
   "name": "python3"
  },
  "language_info": {
   "codemirror_mode": {
    "name": "ipython",
    "version": 3
   },
   "file_extension": ".py",
   "mimetype": "text/x-python",
   "name": "python",
   "nbconvert_exporter": "python",
   "pygments_lexer": "ipython3",
   "version": "3.11.5"
  }
 },
 "nbformat": 4,
 "nbformat_minor": 5
}
