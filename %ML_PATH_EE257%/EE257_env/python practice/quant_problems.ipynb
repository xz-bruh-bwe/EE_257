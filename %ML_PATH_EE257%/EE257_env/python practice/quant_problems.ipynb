{
 "cells": [
  {
   "cell_type": "code",
   "execution_count": 1,
   "id": "f4901d35-1b47-4891-91ee-e31f6c1ac82c",
   "metadata": {},
   "outputs": [
    {
     "name": "stdout",
     "output_type": "stream",
     "text": [
      "0.04978\n"
     ]
    }
   ],
   "source": [
    "import random\n",
    "\n",
    "roll_dice = lambda: random.randint(1, 6)\n",
    "\n",
    "valid_cases = 0\n",
    "num_iters = 100_000\n",
    "for i in range(num_iters):\n",
    "\n",
    "    seen_faces = set()\n",
    "    while(True):\n",
    "\n",
    "        roll = roll_dice()\n",
    "        seen_faces.add(roll)\n",
    "\n",
    "        if roll % 2 == 1 and len(seen_faces) < 4:\n",
    "            break\n",
    "\n",
    "        if len(seen_faces) == 6:\n",
    "            valid_cases += 1\n",
    "            break\n",
    "\n",
    "print(valid_cases / num_iters)"
   ]
  },
  {
   "cell_type": "code",
   "execution_count": null,
   "id": "c9f80d38-db70-4607-a6e1-d9d75518a9cc",
   "metadata": {},
   "outputs": [],
   "source": []
  },
  {
   "cell_type": "code",
   "execution_count": 2,
   "id": "31f16be2-e193-434f-b5ac-631af4daa1e5",
   "metadata": {},
   "outputs": [
    {
     "name": "stdout",
     "output_type": "stream",
     "text": [
      "10.6188\n"
     ]
    }
   ],
   "source": [
    "import random\n",
    "from typing import Tuple\n",
    "from itertools import product\n",
    "\n",
    "suits = ['S', 'C', 'D', 'H']\n",
    "ranks = ['A', '2', '3', '4', '5', '6', '7', '8', '9', '10', 'J', 'Q', 'K']\n",
    "\n",
    "class Deck:\n",
    "    def __init__(self) -> None:\n",
    "        \"\"\"Initialize a deck of cards\"\"\"\n",
    "        self.cards = [(rank, suit) for rank, suit in product(ranks, suits)]\n",
    "\n",
    "    def shuffle(self) -> None:\n",
    "        \"\"\"Shuffle a deck of cards\"\"\"\n",
    "        self.cards = random.sample(self.cards, 52)\n",
    "\n",
    "    def draw(self) -> Tuple[str, str]:\n",
    "        \"\"\"Draw a card from the deck\"\"\"\n",
    "        return self.cards.pop()\n",
    "\n",
    "    def isEmpty(self) -> bool:\n",
    "        \"\"\"Check if the deck has cards\"\"\"\n",
    "        return self.cards == []\n",
    "\n",
    "def simulation() -> int:\n",
    "    deck = Deck()\n",
    "    deck.shuffle()\n",
    "\n",
    "    cards_drawn = 0\n",
    "\n",
    "    # Keep drawing until we find an ace\n",
    "    while not deck.isEmpty():\n",
    "        suit, rank = deck.draw()\n",
    "        cards_drawn += 1\n",
    "\n",
    "        if suit == \"A\":\n",
    "            return cards_drawn\n",
    "\n",
    "    return cards_drawn\n",
    "\n",
    "cards_needed = [simulation() for _ in range(10_000)]\n",
    "\n",
    "# Get the expected number of cards until we draw our first ace\n",
    "print(sum(cards_needed) / len(cards_needed))"
   ]
  },
  {
   "cell_type": "code",
   "execution_count": null,
   "id": "d5051cb1-c180-47a3-9d37-9c98b7080f5b",
   "metadata": {},
   "outputs": [],
   "source": []
  },
  {
   "cell_type": "code",
   "execution_count": 46,
   "id": "3b51f30f-532a-48ab-9969-4192de6da782",
   "metadata": {},
   "outputs": [
    {
     "name": "stdout",
     "output_type": "stream",
     "text": [
      "0.32456754324567544\n"
     ]
    }
   ],
   "source": [
    "import random\n",
    "\n",
    "#logs state baby has traveled to\n",
    "state_log = [0]\n",
    "\n",
    "num_transitions = 10_000\n",
    "for i in range(num_transitions):\n",
    "\n",
    "    #modeling random walk using random variable t\n",
    "    t = random.randint(1,10)\n",
    "\n",
    "    if t <= 2:\n",
    "        state_log.append(state_log[-1] + 1)\n",
    "    elif t <= 7:\n",
    "        state_log.append(state_log[-1])\n",
    "    else:\n",
    "        state_log.append(max(state_log[-1] - 1, 0))\n",
    "\n",
    "#Expecting value close to 1/3\n",
    "print((state_log.count(0)-1)/len(state_log))\n"
   ]
  }
 ],
 "metadata": {
  "kernelspec": {
   "display_name": "Python 3 (ipykernel)",
   "language": "python",
   "name": "python3"
  },
  "language_info": {
   "codemirror_mode": {
    "name": "ipython",
    "version": 3
   },
   "file_extension": ".py",
   "mimetype": "text/x-python",
   "name": "python",
   "nbconvert_exporter": "python",
   "pygments_lexer": "ipython3",
   "version": "3.11.5"
  }
 },
 "nbformat": 4,
 "nbformat_minor": 5
}
