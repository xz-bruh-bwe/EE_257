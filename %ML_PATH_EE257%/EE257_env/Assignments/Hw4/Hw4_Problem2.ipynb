{
 "cells": [
  {
   "cell_type": "code",
   "execution_count": 32,
   "id": "2c8464a4-ceb8-425b-8015-75598fd8f850",
   "metadata": {},
   "outputs": [],
   "source": [
    "# %load ../standard_import.txt\n",
    "import pandas as pd\n",
    "import numpy as np\n",
    "\n",
    "import matplotlib as mpl\n",
    "import matplotlib.pyplot as plt\n",
    "import seaborn as sns\n",
    "\n",
    "import sklearn.linear_model as skl_lm\n",
    "#Logistical Regression\n",
    "from sklearn.linear_model import LogisticRegression\n",
    "\n",
    "\n",
    "from sklearn.discriminant_analysis import LinearDiscriminantAnalysis\n",
    "from sklearn.discriminant_analysis import QuadraticDiscriminantAnalysis\n",
    "\n",
    "from sklearn.metrics import confusion_matrix, classification_report, precision_score, mean_squared_error, accuracy_score\n",
    "from sklearn import preprocessing\n",
    "from sklearn import neighbors\n",
    "\n",
    "from sklearn.model_selection import train_test_split, LeaveOneOut, KFold, cross_val_score\n",
    "from sklearn.preprocessing import PolynomialFeatures\n",
    "\n",
    "\n",
    "import statsmodels.api as sm\n",
    "import statsmodels.formula.api as smf\n",
    "\n",
    "%matplotlib inline\n",
    "plt.style.use(\"seaborn-v0_8\") "
   ]
  },
  {
   "cell_type": "markdown",
   "id": "f55a78ff-0f56-4170-9815-d3799501d218",
   "metadata": {
    "scrolled": true
   },
   "source": [
    "### Problem 2 Use logistic regression to predict the probability of default using income and balance. \n",
    "### Estimate the test error using"
   ]
  },
  {
   "cell_type": "code",
   "execution_count": 33,
   "id": "0e8d1fa6-11ea-46ce-a15c-ee8f74c73c37",
   "metadata": {},
   "outputs": [],
   "source": [
    "df = pd.read_csv('Default.csv', index_col = 0)"
   ]
  },
  {
   "cell_type": "code",
   "execution_count": null,
   "id": "6f384e22-08dd-4283-bcb4-11f09f3e7b31",
   "metadata": {},
   "outputs": [],
   "source": []
  },
  {
   "cell_type": "code",
   "execution_count": 34,
   "id": "94ac2310-2f04-4647-8acc-14da17f8a618",
   "metadata": {},
   "outputs": [],
   "source": [
    "X = df[['balance', 'income']]\n",
    "y = df['default']\n",
    "\n",
    "\n",
    "df_ = pd.DataFrame(df)"
   ]
  },
  {
   "cell_type": "code",
   "execution_count": 50,
   "id": "85e090e1-80a3-4b95-b560-038322a4747d",
   "metadata": {
    "scrolled": true
   },
   "outputs": [
    {
     "data": {
      "text/html": [
       "<div>\n",
       "<style scoped>\n",
       "    .dataframe tbody tr th:only-of-type {\n",
       "        vertical-align: middle;\n",
       "    }\n",
       "\n",
       "    .dataframe tbody tr th {\n",
       "        vertical-align: top;\n",
       "    }\n",
       "\n",
       "    .dataframe thead th {\n",
       "        text-align: right;\n",
       "    }\n",
       "</style>\n",
       "<table border=\"1\" class=\"dataframe\">\n",
       "  <thead>\n",
       "    <tr style=\"text-align: right;\">\n",
       "      <th></th>\n",
       "      <th>default</th>\n",
       "      <th>student</th>\n",
       "      <th>balance</th>\n",
       "      <th>income</th>\n",
       "      <th>default2</th>\n",
       "      <th>student2</th>\n",
       "    </tr>\n",
       "  </thead>\n",
       "  <tbody>\n",
       "    <tr>\n",
       "      <th>1</th>\n",
       "      <td>No</td>\n",
       "      <td>No</td>\n",
       "      <td>729.526495</td>\n",
       "      <td>44361.62507</td>\n",
       "      <td>0</td>\n",
       "      <td>0</td>\n",
       "    </tr>\n",
       "    <tr>\n",
       "      <th>2</th>\n",
       "      <td>No</td>\n",
       "      <td>Yes</td>\n",
       "      <td>817.180407</td>\n",
       "      <td>12106.13470</td>\n",
       "      <td>0</td>\n",
       "      <td>1</td>\n",
       "    </tr>\n",
       "    <tr>\n",
       "      <th>3</th>\n",
       "      <td>No</td>\n",
       "      <td>No</td>\n",
       "      <td>1073.549164</td>\n",
       "      <td>31767.13895</td>\n",
       "      <td>0</td>\n",
       "      <td>0</td>\n",
       "    </tr>\n",
       "    <tr>\n",
       "      <th>4</th>\n",
       "      <td>No</td>\n",
       "      <td>No</td>\n",
       "      <td>529.250605</td>\n",
       "      <td>35704.49394</td>\n",
       "      <td>0</td>\n",
       "      <td>0</td>\n",
       "    </tr>\n",
       "    <tr>\n",
       "      <th>5</th>\n",
       "      <td>No</td>\n",
       "      <td>No</td>\n",
       "      <td>785.655883</td>\n",
       "      <td>38463.49588</td>\n",
       "      <td>0</td>\n",
       "      <td>0</td>\n",
       "    </tr>\n",
       "  </tbody>\n",
       "</table>\n",
       "</div>"
      ],
      "text/plain": [
       "  default student      balance       income  default2  student2\n",
       "1      No      No   729.526495  44361.62507         0         0\n",
       "2      No     Yes   817.180407  12106.13470         0         1\n",
       "3      No      No  1073.549164  31767.13895         0         0\n",
       "4      No      No   529.250605  35704.49394         0         0\n",
       "5      No      No   785.655883  38463.49588         0         0"
      ]
     },
     "execution_count": 50,
     "metadata": {},
     "output_type": "execute_result"
    }
   ],
   "source": [
    "# Note: factorize() returns two objects: a label array and an array with the unique values.\n",
    "# We are only interested in the first object. \n",
    "df['default2'] = df.default.factorize()[0]  # Converts Yes and No to 0 and 1\n",
    "df['student2'] = df.student.factorize()[0]  # Converts Yes and No to 0 and 1\n",
    "\n",
    "df_['default2'] = df_.default.factorize()[0]\n",
    "\n",
    "df.head()"
   ]
  },
  {
   "cell_type": "code",
   "execution_count": null,
   "id": "f0aed176-90c0-4228-8672-fb3ea7c50b94",
   "metadata": {},
   "outputs": [],
   "source": []
  },
  {
   "cell_type": "code",
   "execution_count": null,
   "id": "c3a931f6-bd19-4906-8c53-8ec01396ee4a",
   "metadata": {},
   "outputs": [],
   "source": [
    "\n"
   ]
  },
  {
   "cell_type": "markdown",
   "id": "3d0ab55a-53e1-42b4-8078-cad5213eb375",
   "metadata": {},
   "source": [
    "### Data visualization"
   ]
  },
  {
   "cell_type": "code",
   "execution_count": 36,
   "id": "3bc6ec41-2faf-4142-b52c-a5f0d207f5b9",
   "metadata": {
    "scrolled": true
   },
   "outputs": [
    {
     "name": "stderr",
     "output_type": "stream",
     "text": [
      "C:\\Users\\Baron\\AppData\\Local\\Temp\\ipykernel_24112\\3404038247.py:33: FutureWarning: \n",
      "\n",
      "Passing `palette` without assigning `hue` is deprecated and will be removed in v0.14.0. Assign the `x` variable to `hue` and set `legend=False` for the same effect.\n",
      "\n",
      "  sns.boxplot(x = 'default', y = 'balance', data=df,  orient='v', ax=ax2, palette=c_palette)\n",
      "C:\\Users\\Baron\\AppData\\Local\\Temp\\ipykernel_24112\\3404038247.py:34: FutureWarning: \n",
      "\n",
      "Passing `palette` without assigning `hue` is deprecated and will be removed in v0.14.0. Assign the `x` variable to `hue` and set `legend=False` for the same effect.\n",
      "\n",
      "  sns.boxplot(x = 'default', y = 'income', data=df, orient='v', ax=ax3, palette=c_palette)\n"
     ]
    },
    {
     "data": {
      "image/png": "[encoded data removed]",
      "text/plain": [
       "<Figure size 1200x500 with 3 Axes>"
      ]
     },
     "metadata": {},
     "output_type": "display_data"
    }
   ],
   "source": [
    "#SCATTER AND BOX PLOT\n",
    "\n",
    "fig = plt.figure(figsize=(12,5))\n",
    "gs = mpl.gridspec.GridSpec(1, 4)\n",
    "ax1 = plt.subplot(gs[0,:-2])\n",
    "ax2 = plt.subplot(gs[0,-2])\n",
    "ax3 = plt.subplot(gs[0,-1])\n",
    "\n",
    "# Take a fraction of the samples where target value (default) is 'no'\n",
    "df_no = df[df.default2 == 0].sample(frac=0.15)\n",
    "# Take all samples  where target value is 'yes'\n",
    "df_yes = df[df.default2 == 1]\n",
    "\n",
    "#Concat function used instead of append\n",
    "df_ = pd.concat([df_no, df_yes])\n",
    "\n",
    "# Creating the plots with + and negative\n",
    "ax1.scatter(df_[df_.default == 'Yes'].balance, df_[df_.default == 'Yes'].income, s=40, c='orange', marker='+',\n",
    "            linewidths=1)\n",
    "ax1.scatter(df_[df_.default == 'No'].balance, df_[df_.default == 'No'].income, s=40, c='lightblue', marker='o',\n",
    "            linewidths=1)\n",
    "\n",
    "\n",
    "#Labeling the Axis\n",
    "ax1.set_ylim(ymin=0)\n",
    "ax1.set_ylabel('Income')\n",
    "ax1.set_xlim(xmin=-100)\n",
    "ax1.set_xlabel('Balance')\n",
    "\n",
    "\n",
    "#Plotting the box Plots \n",
    "c_palette = {'No':'lightblue', 'Yes':'orange'}\n",
    "sns.boxplot(x = 'default', y = 'balance', data=df,  orient='v', ax=ax2, palette=c_palette)\n",
    "sns.boxplot(x = 'default', y = 'income', data=df, orient='v', ax=ax3, palette=c_palette)\n",
    "gs.tight_layout(plt.gcf())"
   ]
  },
  {
   "cell_type": "code",
   "execution_count": 37,
   "id": "b29bb825-a564-4c10-9208-ac13c224ffe7",
   "metadata": {
    "scrolled": true
   },
   "outputs": [
    {
     "name": "stdout",
     "output_type": "stream",
     "text": [
      "<class 'pandas.core.frame.DataFrame'>\n",
      "Index: 10000 entries, 1 to 10000\n",
      "Data columns (total 6 columns):\n",
      " #   Column    Non-Null Count  Dtype  \n",
      "---  ------    --------------  -----  \n",
      " 0   default   10000 non-null  object \n",
      " 1   student   10000 non-null  object \n",
      " 2   balance   10000 non-null  float64\n",
      " 3   income    10000 non-null  float64\n",
      " 4   default2  10000 non-null  int64  \n",
      " 5   student2  10000 non-null  int64  \n",
      "dtypes: float64(2), int64(2), object(2)\n",
      "memory usage: 546.9+ KB\n"
     ]
    }
   ],
   "source": [
    "df.info()\n"
   ]
  },
  {
   "cell_type": "markdown",
   "id": "e47c00f1-1754-48ac-8bfa-f87db3a49a37",
   "metadata": {},
   "source": [
    "### LOGISTICAL REGRESSION"
   ]
  },
  {
   "cell_type": "code",
   "execution_count": 38,
   "id": "11b7ef59-880f-4173-aa85-8f7a2556b266",
   "metadata": {},
   "outputs": [
    {
     "name": "stdout",
     "output_type": "stream",
     "text": [
      "----------------------------------------------------------------------------------\n",
      "LogisticRegression(solver='newton-cg')\n",
      "classes:  [0 1]\n",
      "coefficients:  [[0.00546217]]\n",
      "intercept : [-10.59003277]\n",
      "----------------------------------------------------------------------------------\n",
      "Accuracy: 0.9725\n",
      "----------------------------------------------------------------------------------\n",
      "\n",
      "\n",
      "Double check this classification report\n",
      "              precision    recall  f1-score   support\n",
      "\n",
      "          No       0.98      1.00      0.99      9667\n",
      "         Yes       0.70      0.30      0.42       333\n",
      "\n",
      "    accuracy                           0.97     10000\n",
      "   macro avg       0.84      0.65      0.70     10000\n",
      "weighted avg       0.97      0.97      0.97     10000\n",
      "\n",
      "----------------------------------------------------------------------------------\n",
      "Calculated RSS:\n",
      "----------------------------------------------------------------------------------\n"
     ]
    }
   ],
   "source": [
    "# LOGISTICAL REGRESSION\n",
    "#establish y output:\n",
    "y = df.default2\n",
    "\n",
    "# Assert x train input\n",
    "X_train = df.balance.values.reshape(-1,1)\n",
    "\n",
    "# Using newton-cg solver, the coefficients are equal/closest to the ones in the book. \n",
    "clf = skl_lm.LogisticRegression(solver='newton-cg')\n",
    "\n",
    "#fit the output\n",
    "clf.fit(X_train,y)\n",
    "\n",
    "y_pred = clf.predict(X_train)\n",
    "\n",
    "print('----------------------------------------------------------------------------------') \n",
    "print(clf)\n",
    "print('classes: ',clf.classes_)\n",
    "print('coefficients: ',clf.coef_)\n",
    "print('intercept :', clf.intercept_)\n",
    "print('----------------------------------------------------------------------------------') \n",
    "accuracy = accuracy_score(y, y_pred)\n",
    "print(\"Accuracy:\", accuracy)\n",
    "print('----------------------------------------------------------------------------------') \n",
    "#print classification report\n",
    "print('\\n') \n",
    "print('Double check this classification report')\n",
    "print(classification_report(y, y_pred, target_names=['No', 'Yes']))\n",
    "print('----------------------------------------------------------------------------------')\n",
    "\n",
    "print('Calculated RSS:' )\n",
    "print('----------------------------------------------------------------------------------') "
   ]
  },
  {
   "cell_type": "code",
   "execution_count": 39,
   "id": "5eb76a5b-531c-4edb-8f0e-3f336af060a2",
   "metadata": {},
   "outputs": [
    {
     "name": "stdout",
     "output_type": "stream",
     "text": [
      "----------------------------------------------------------------------------------\n"
     ]
    },
    {
     "data": {
      "text/html": [
       "<div>\n",
       "<style scoped>\n",
       "    .dataframe tbody tr th:only-of-type {\n",
       "        vertical-align: middle;\n",
       "    }\n",
       "\n",
       "    .dataframe tbody tr th {\n",
       "        vertical-align: top;\n",
       "    }\n",
       "\n",
       "    .dataframe thead th {\n",
       "        text-align: right;\n",
       "    }\n",
       "</style>\n",
       "<table border=\"1\" class=\"dataframe\">\n",
       "  <thead>\n",
       "    <tr style=\"text-align: right;\">\n",
       "      <th>default</th>\n",
       "      <th>No</th>\n",
       "      <th>Yes</th>\n",
       "    </tr>\n",
       "    <tr>\n",
       "      <th>student</th>\n",
       "      <th></th>\n",
       "      <th></th>\n",
       "    </tr>\n",
       "  </thead>\n",
       "  <tbody>\n",
       "    <tr>\n",
       "      <th>No</th>\n",
       "      <td>6850</td>\n",
       "      <td>206</td>\n",
       "    </tr>\n",
       "    <tr>\n",
       "      <th>Yes</th>\n",
       "      <td>2817</td>\n",
       "      <td>127</td>\n",
       "    </tr>\n",
       "  </tbody>\n",
       "</table>\n",
       "</div>"
      ],
      "text/plain": [
       "default    No  Yes\n",
       "student           \n",
       "No       6850  206\n",
       "Yes      2817  127"
      ]
     },
     "execution_count": 39,
     "metadata": {},
     "output_type": "execute_result"
    }
   ],
   "source": [
    "print('----------------------------------------------------------------------------------') \n",
    "confusion_matrix(y, y_pred)\n",
    "\n",
    "df.groupby(['student','default']).size().unstack('default')\n"
   ]
  },
  {
   "cell_type": "markdown",
   "id": "52a7ca85-f16d-4f51-8de2-96f24d7a3c45",
   "metadata": {},
   "source": [
    "### MULITPLE LOGISTICAL REGRESSION\n"
   ]
  },
  {
   "cell_type": "code",
   "execution_count": 40,
   "id": "970ee20e-082e-44af-8727-5ba679f50d06",
   "metadata": {},
   "outputs": [
    {
     "name": "stdout",
     "output_type": "stream",
     "text": [
      "Optimization terminated successfully.\n",
      "         Current function value: 0.078577\n",
      "         Iterations 10\n",
      "----------------------------------------------------------------------------------\n",
      "LogisticRegression(solver='newton-cg')\n",
      "----------------------------------------------------------------------------------\n",
      "Accuracy: 0.9732\n",
      "----------------------------------------------------------------------------------\n",
      "\n",
      "\n",
      "Double check this classification report\n",
      "              precision    recall  f1-score   support\n",
      "\n",
      "          No       0.98      1.00      0.99      9667\n",
      "         Yes       0.72      0.32      0.44       333\n",
      "\n",
      "    accuracy                           0.97     10000\n",
      "   macro avg       0.85      0.66      0.71     10000\n",
      "weighted avg       0.97      0.97      0.97     10000\n",
      "\n"
     ]
    }
   ],
   "source": [
    "# MULITPLE LOGISTICAL REGRESSION\n",
    "\n",
    "X_train_mlogreg = sm.add_constant(df[['balance', 'income', 'student2']])\n",
    "\n",
    "est_mlogreg = smf.logit(\"default2 ~ balance + income + student2\", data = df).fit()\n",
    "\n",
    "est_mlogreg.summary2().tables[1]\n",
    "\n",
    "y_pred_prob = est_mlogreg.predict(X_train_mlogreg)\n",
    "\n",
    "y_pred_mult = [ 0 if x < 0.5 else 1 for x in y_pred_prob] # This  sets the threshold bondaries for the classification solutions\n",
    "\n",
    "print('----------------------------------------------------------------------------------') \n",
    "print(clf)\n",
    "#print('classes: ',est_mlogreg.classes_)   These are not attributes of the logit function...\n",
    "#print('coefficients: ',est_mlogreg.coef_)  These are not attributes of the logit function...\n",
    "#print('intercept :', est_mlogreg.intercept_)  These are not attributes of the logit function...\n",
    "print('----------------------------------------------------------------------------------') \n",
    "accuracy = accuracy_score(y, y_pred_mult)\n",
    "print(\"Accuracy:\", accuracy)\n",
    "print('----------------------------------------------------------------------------------') \n",
    "#print classification report\n",
    "print('\\n') \n",
    "print('Double check this classification report')\n",
    "print(classification_report(y, y_pred_mult, target_names=['No', 'Yes']))\n"
   ]
  },
  {
   "cell_type": "code",
   "execution_count": 41,
   "id": "0685ca9f-2034-4977-8d05-c534e1d03b81",
   "metadata": {},
   "outputs": [
    {
     "data": {
      "text/html": [
       "<div>\n",
       "<style scoped>\n",
       "    .dataframe tbody tr th:only-of-type {\n",
       "        vertical-align: middle;\n",
       "    }\n",
       "\n",
       "    .dataframe tbody tr th {\n",
       "        vertical-align: top;\n",
       "    }\n",
       "\n",
       "    .dataframe thead th {\n",
       "        text-align: right;\n",
       "    }\n",
       "</style>\n",
       "<table border=\"1\" class=\"dataframe\">\n",
       "  <thead>\n",
       "    <tr style=\"text-align: right;\">\n",
       "      <th>default</th>\n",
       "      <th>No</th>\n",
       "      <th>Yes</th>\n",
       "    </tr>\n",
       "    <tr>\n",
       "      <th>student</th>\n",
       "      <th></th>\n",
       "      <th></th>\n",
       "    </tr>\n",
       "  </thead>\n",
       "  <tbody>\n",
       "    <tr>\n",
       "      <th>No</th>\n",
       "      <td>6850</td>\n",
       "      <td>206</td>\n",
       "    </tr>\n",
       "    <tr>\n",
       "      <th>Yes</th>\n",
       "      <td>2817</td>\n",
       "      <td>127</td>\n",
       "    </tr>\n",
       "  </tbody>\n",
       "</table>\n",
       "</div>"
      ],
      "text/plain": [
       "default    No  Yes\n",
       "student           \n",
       "No       6850  206\n",
       "Yes      2817  127"
      ]
     },
     "execution_count": 41,
     "metadata": {},
     "output_type": "execute_result"
    }
   ],
   "source": [
    "confusion_matrix(y, y_pred_mult)\n",
    "\n",
    "df.groupby(['student','default']).size().unstack('default')"
   ]
  },
  {
   "cell_type": "markdown",
   "id": "0ebd993c-45b7-458c-9769-331ba1583ebe",
   "metadata": {},
   "source": [
    "### Cross Validation: Validation Set Approach\n"
   ]
  },
  {
   "cell_type": "code",
   "execution_count": 42,
   "id": "2834d814-4843-41c6-ab2e-a081a395741d",
   "metadata": {},
   "outputs": [
    {
     "name": "stdout",
     "output_type": "stream",
     "text": [
      "----------------------------------------------------------------------------------\n",
      "MSE: 0.0258\n",
      "----------------------------------------------------------------------------------\n"
     ]
    }
   ],
   "source": [
    "t_prop = 0.5 # Splits the data in half\n",
    "r_state = np.arange(10000, 10000) # 0 through 10 random seeds array of 0 - 9\n",
    "\n",
    "\n",
    "#Assert the type of training model\n",
    "\n",
    "\n",
    "# Validation Set Apprarch\n",
    "#Shuffle Data\n",
    "#Split it into two\n",
    "X_train, X_test, y_train, y_test = train_test_split(X, df.default2, shuffle=True, test_size=t_prop, random_state=42)\n",
    "\n",
    "#Assert classifier method\n",
    "clf = skl_lm.LogisticRegression(solver='newton-cg')\n",
    "\n",
    "clf.fit(X_train, y_train)\n",
    "\n",
    "y_pred_CV1 = clf.predict(X_test)\n",
    "\n",
    "MSE = mean_squared_error(y_test, y_pred_CV1)\n",
    "print('----------------------------------------------------------------------------------')\n",
    "print('MSE:' , MSE)\n",
    "print('----------------------------------------------------------------------------------')\n",
    "\n"
   ]
  },
  {
   "cell_type": "markdown",
   "id": "50b6af96-daa8-4794-830b-f9325a43347b",
   "metadata": {},
   "source": [
    "### More stats"
   ]
  },
  {
   "cell_type": "code",
   "execution_count": 43,
   "id": "bbac33e4-d69c-4ef4-b101-c8bdf5a502aa",
   "metadata": {},
   "outputs": [
    {
     "name": "stdout",
     "output_type": "stream",
     "text": [
      "----------------------------------------------------------------------------------\n",
      "LogisticRegression(solver='newton-cg')\n",
      "----------------------------------------------------------------------------------\n",
      "Accuracy: 0.9742\n",
      "----------------------------------------------------------------------------------\n",
      "\n",
      "\n",
      "Double check this classification report\n",
      "              precision    recall  f1-score   support\n",
      "\n",
      "          No       0.98      1.00      0.99      4841\n",
      "         Yes       0.70      0.33      0.45       159\n",
      "\n",
      "    accuracy                           0.97      5000\n",
      "   macro avg       0.84      0.66      0.72      5000\n",
      "weighted avg       0.97      0.97      0.97      5000\n",
      "\n"
     ]
    }
   ],
   "source": [
    "print('----------------------------------------------------------------------------------') \n",
    "print(clf)\n",
    "#print('classes: ',est_mlogreg.classes_)   These are not attributes of the logit function...\n",
    "#print('coefficients: ',est_mlogreg.coef_)  These are not attributes of the logit function...\n",
    "#print('intercept :', est_mlogreg.intercept_)  These are not attributes of the logit function...\n",
    "print('----------------------------------------------------------------------------------') \n",
    "accuracy = accuracy_score(y_test, y_pred_CV1)\n",
    "print(\"Accuracy:\", accuracy)\n",
    "print('----------------------------------------------------------------------------------') \n",
    "#print classification report\n",
    "print('\\n') \n",
    "print('Double check this classification report')\n",
    "print(classification_report(y_test, y_pred_CV1, target_names=['No', 'Yes']))"
   ]
  },
  {
   "cell_type": "markdown",
   "id": "17165ea5-1e36-496d-bb21-496c6ce9e78d",
   "metadata": {},
   "source": [
    "### LOOCV CV"
   ]
  },
  {
   "cell_type": "code",
   "execution_count": 57,
   "id": "2a52b507-ecfd-4d4d-a68a-5a63810c56cf",
   "metadata": {},
   "outputs": [
    {
     "name": "stdout",
     "output_type": "stream",
     "text": [
      "----------------------------------------------------------------------------------\n",
      "Training model used: Logistical Regression\n",
      "----------------------------------------------------------------------------------\n",
      "MSE:\n"
     ]
    },
    {
     "data": {
      "text/plain": [
       "[-0.0263]"
      ]
     },
     "execution_count": 57,
     "metadata": {},
     "output_type": "execute_result"
    }
   ],
   "source": [
    "# LOOCV CV\n",
    "p_order = np.arange(1,10000)\n",
    "\n",
    "X_loocv = X.values\n",
    "\n",
    "y = df.default2\n",
    "\n",
    "loo = LeaveOneOut()\n",
    "loo.get_n_splits(X_loocv)\n",
    "scores = list()\n",
    "\n",
    "score = cross_val_score(clf, X_loocv, y, cv=loo, scoring='neg_mean_squared_error', n_jobs = -1).mean()\n",
    "scores.append(score)\n",
    "\n",
    "print('----------------------------------------------------------------------------------')\n",
    "print('Training model used: Logistical Regression')\n",
    "print('----------------------------------------------------------------------------------')\n",
    "print('MSE:')\n",
    "scores\n"
   ]
  },
  {
   "cell_type": "code",
   "execution_count": null,
   "id": "27a57d71-e65f-45e9-b8ba-fa465d854dc4",
   "metadata": {},
   "outputs": [],
   "source": [
    "   "
   ]
  },
  {
   "cell_type": "markdown",
   "id": "253dff43-45e6-418f-bc72-eaff3f2b2b52",
   "metadata": {},
   "source": [
    "### K_Fold CV"
   ]
  },
  {
   "cell_type": "code",
   "execution_count": 58,
   "id": "2d5259d0-3dad-41dd-9f90-5f9bffe179a6",
   "metadata": {
    "scrolled": true
   },
   "outputs": [
    {
     "data": {
      "text/plain": [
       "0.033600000000000005"
      ]
     },
     "execution_count": 58,
     "metadata": {},
     "output_type": "execute_result"
    }
   ],
   "source": [
    "folds = 5\n",
    "elements = len(X.index)\n",
    "\n",
    "#Assert y\n",
    "y = df['default2']\n",
    "\n",
    "clf = LogisticRegression(multi_class='auto', solver='liblinear')\n",
    "\n",
    "kf_10 = KFold(n_splits=folds)\n",
    "\n",
    "ERROR = cross_val_score(clf, X, y, cv=kf_10, scoring='neg_mean_squared_error', n_jobs = -1).mean()   \n",
    "\n",
    "ERROR_non_neg = ERROR * -1\n",
    "\n",
    "ERROR_non_neg"
   ]
  },
  {
   "cell_type": "code",
   "execution_count": null,
   "id": "f57b372e-bcf9-429e-bea5-e233bd716cd2",
   "metadata": {},
   "outputs": [],
   "source": []
  }
 ],
 "metadata": {
  "kernelspec": {
   "display_name": "Python 3 (ipykernel)",
   "language": "python",
   "name": "python3"
  },
  "language_info": {
   "codemirror_mode": {
    "name": "ipython",
    "version": 3
   },
   "file_extension": ".py",
   "mimetype": "text/x-python",
   "name": "python",
   "nbconvert_exporter": "python",
   "pygments_lexer": "ipython3",
   "version": "3.11.5"
  }
 },
 "nbformat": 4,
 "nbformat_minor": 5
}
