{
 "cells": [
  {
   "cell_type": "code",
   "execution_count": 138,
   "id": "296b94d4-9e63-4c02-aef8-f3a81a0c13b3",
   "metadata": {},
   "outputs": [],
   "source": [
    "# %load ../standard_import.txt\n",
    "import pandas as pd\n",
    "import numpy as np\n",
    "\n",
    "import matplotlib as mpl\n",
    "import matplotlib.pyplot as plt\n",
    "import seaborn as sns\n",
    "\n",
    "import sklearn.linear_model as skl_lm\n",
    "\n",
    "from sklearn.discriminant_analysis import LinearDiscriminantAnalysis\n",
    "from sklearn.discriminant_analysis import QuadraticDiscriminantAnalysis\n",
    "\n",
    "from sklearn.metrics import confusion_matrix, classification_report, precision_score, mean_squared_error, accuracy_score\n",
    "from sklearn import preprocessing\n",
    "from sklearn import neighbors\n",
    "\n",
    "from sklearn.model_selection import train_test_split, LeaveOneOut, KFold, cross_val_score\n",
    "from sklearn.preprocessing import PolynomialFeatures\n",
    "\n",
    "\n",
    "import statsmodels.api as sm\n",
    "import statsmodels.formula.api as smf\n",
    "\n",
    "%matplotlib inline\n",
    "plt.style.use(\"seaborn-v0_8\") "
   ]
  },
  {
   "cell_type": "code",
   "execution_count": 105,
   "id": "ce5c49b0-d325-4c68-afbf-ab5f27cd9895",
   "metadata": {
    "scrolled": true
   },
   "outputs": [],
   "source": [
    "# Problem 2 Use logistic regression to predict the probability of default using income and balance. \n",
    "#Estimate the test error using"
   ]
  },
  {
   "cell_type": "code",
   "execution_count": 106,
   "id": "0e8d1fa6-11ea-46ce-a15c-ee8f74c73c37",
   "metadata": {},
   "outputs": [],
   "source": [
    "df = pd.read_csv('Default.csv', index_col = 0)"
   ]
  },
  {
   "cell_type": "code",
   "execution_count": 145,
   "id": "94ac2310-2f04-4647-8acc-14da17f8a618",
   "metadata": {},
   "outputs": [],
   "source": [
    "X_ = df[['balance', 'income', 'student2']]\n",
    "y = df['default2']\n"
   ]
  },
  {
   "cell_type": "code",
   "execution_count": 107,
   "id": "85e090e1-80a3-4b95-b560-038322a4747d",
   "metadata": {},
   "outputs": [
    {
     "data": {
      "text/html": [
       "<div>\n",
       "<style scoped>\n",
       "    .dataframe tbody tr th:only-of-type {\n",
       "        vertical-align: middle;\n",
       "    }\n",
       "\n",
       "    .dataframe tbody tr th {\n",
       "        vertical-align: top;\n",
       "    }\n",
       "\n",
       "    .dataframe thead th {\n",
       "        text-align: right;\n",
       "    }\n",
       "</style>\n",
       "<table border=\"1\" class=\"dataframe\">\n",
       "  <thead>\n",
       "    <tr style=\"text-align: right;\">\n",
       "      <th></th>\n",
       "      <th>default</th>\n",
       "      <th>student</th>\n",
       "      <th>balance</th>\n",
       "      <th>income</th>\n",
       "      <th>default2</th>\n",
       "      <th>student2</th>\n",
       "    </tr>\n",
       "  </thead>\n",
       "  <tbody>\n",
       "    <tr>\n",
       "      <th>1</th>\n",
       "      <td>No</td>\n",
       "      <td>No</td>\n",
       "      <td>729.526495</td>\n",
       "      <td>44361.62507</td>\n",
       "      <td>0</td>\n",
       "      <td>0</td>\n",
       "    </tr>\n",
       "    <tr>\n",
       "      <th>2</th>\n",
       "      <td>No</td>\n",
       "      <td>Yes</td>\n",
       "      <td>817.180407</td>\n",
       "      <td>12106.13470</td>\n",
       "      <td>0</td>\n",
       "      <td>1</td>\n",
       "    </tr>\n",
       "    <tr>\n",
       "      <th>3</th>\n",
       "      <td>No</td>\n",
       "      <td>No</td>\n",
       "      <td>1073.549164</td>\n",
       "      <td>31767.13895</td>\n",
       "      <td>0</td>\n",
       "      <td>0</td>\n",
       "    </tr>\n",
       "    <tr>\n",
       "      <th>4</th>\n",
       "      <td>No</td>\n",
       "      <td>No</td>\n",
       "      <td>529.250605</td>\n",
       "      <td>35704.49394</td>\n",
       "      <td>0</td>\n",
       "      <td>0</td>\n",
       "    </tr>\n",
       "    <tr>\n",
       "      <th>5</th>\n",
       "      <td>No</td>\n",
       "      <td>No</td>\n",
       "      <td>785.655883</td>\n",
       "      <td>38463.49588</td>\n",
       "      <td>0</td>\n",
       "      <td>0</td>\n",
       "    </tr>\n",
       "  </tbody>\n",
       "</table>\n",
       "</div>"
      ],
      "text/plain": [
       "  default student      balance       income  default2  student2\n",
       "1      No      No   729.526495  44361.62507         0         0\n",
       "2      No     Yes   817.180407  12106.13470         0         1\n",
       "3      No      No  1073.549164  31767.13895         0         0\n",
       "4      No      No   529.250605  35704.49394         0         0\n",
       "5      No      No   785.655883  38463.49588         0         0"
      ]
     },
     "execution_count": 107,
     "metadata": {},
     "output_type": "execute_result"
    }
   ],
   "source": [
    "# Note: factorize() returns two objects: a label array and an array with the unique values.\n",
    "# We are only interested in the first object. \n",
    "df['default2'] = df.default.factorize()[0]\n",
    "df['student2'] = df.student.factorize()[0]\n",
    "df.head()"
   ]
  },
  {
   "cell_type": "code",
   "execution_count": null,
   "id": "61013698-f90b-49ca-ad54-2dc7c370c06a",
   "metadata": {},
   "outputs": [],
   "source": []
  },
  {
   "cell_type": "code",
   "execution_count": 108,
   "id": "c3a931f6-bd19-4906-8c53-8ec01396ee4a",
   "metadata": {},
   "outputs": [
    {
     "name": "stdout",
     "output_type": "stream",
     "text": [
      "LogisticRegression(solver='newton-cg')\n",
      "classes:  [0 1]\n",
      "coefficients:  [[0.00546217]]\n",
      "intercept : [-10.59003277]\n"
     ]
    }
   ],
   "source": [
    "# LOGISTICAL REGRESSION\n",
    "#establish y output:\n",
    "y = df.default2\n",
    "\n",
    "# Assert x train input\n",
    "X_train = df.balance.values.reshape(-1,1)\n",
    "\n",
    "# Using newton-cg solver, the coefficients are equal/closest to the ones in the book. \n",
    "clf = skl_lm.LogisticRegression(solver='newton-cg')\n",
    "\n",
    "#fit the output\n",
    "clf.fit(X_train,y)\n",
    "\n",
    "print(clf)\n",
    "print('classes: ',clf.classes_)\n",
    "print('coefficients: ',clf.coef_)\n",
    "print('intercept :', clf.intercept_)\n"
   ]
  },
  {
   "cell_type": "code",
   "execution_count": null,
   "id": "7dfd7c53-19a6-47df-9622-7b670786e786",
   "metadata": {},
   "outputs": [],
   "source": []
  },
  {
   "cell_type": "code",
   "execution_count": null,
   "id": "3bc6ec41-2faf-4142-b52c-a5f0d207f5b9",
   "metadata": {},
   "outputs": [],
   "source": []
  },
  {
   "cell_type": "code",
   "execution_count": 109,
   "id": "b29bb825-a564-4c10-9208-ac13c224ffe7",
   "metadata": {},
   "outputs": [
    {
     "name": "stdout",
     "output_type": "stream",
     "text": [
      "<class 'pandas.core.frame.DataFrame'>\n",
      "Index: 10000 entries, 1 to 10000\n",
      "Data columns (total 6 columns):\n",
      " #   Column    Non-Null Count  Dtype  \n",
      "---  ------    --------------  -----  \n",
      " 0   default   10000 non-null  object \n",
      " 1   student   10000 non-null  object \n",
      " 2   balance   10000 non-null  float64\n",
      " 3   income    10000 non-null  float64\n",
      " 4   default2  10000 non-null  int64  \n",
      " 5   student2  10000 non-null  int64  \n",
      "dtypes: float64(2), int64(2), object(2)\n",
      "memory usage: 546.9+ KB\n"
     ]
    }
   ],
   "source": [
    "df.info()\n"
   ]
  },
  {
   "cell_type": "code",
   "execution_count": 110,
   "id": "595a85a4-7111-4eb1-a4ef-b0a35a28b1ae",
   "metadata": {},
   "outputs": [
    {
     "name": "stdout",
     "output_type": "stream",
     "text": [
      "Optimization terminated successfully.\n",
      "         Current function value: 0.078948\n",
      "         Iterations 10\n"
     ]
    }
   ],
   "source": [
    "# MULITPLE LOGISTICAL REGRESSION\n",
    "\n",
    "X_train = sm.add_constant(df[['balance', 'income']])\n",
    "\n",
    "est = smf.logit(\"default2 ~ balance + income\", data = df).fit()\n",
    "\n",
    "est.summary2().tables[1]\n",
    "\n",
    "y_pred_prob = est.predict(X_train)\n",
    "y_pred = [ 0 if x < 0.5 else 1 for x in y_pred_prob]"
   ]
  },
  {
   "cell_type": "code",
   "execution_count": 149,
   "id": "2a52b507-ecfd-4d4d-a68a-5a63810c56cf",
   "metadata": {
    "scrolled": true
   },
   "outputs": [
    {
     "name": "stderr",
     "output_type": "stream",
     "text": [
      "C:\\Users\\Baron\\Desktop\\EE_257_Repo\\EE_257\\%ML_PATH_EE257%\\EE257_env\\Lib\\site-packages\\scipy\\optimize\\_linesearch.py:313: LineSearchWarning: The line search algorithm did not converge\n",
      "  alpha_star, phi_star, old_fval, derphi_star = scalar_search_wolfe2(\n",
      "C:\\Users\\Baron\\Desktop\\EE_257_Repo\\EE_257\\%ML_PATH_EE257%\\EE257_env\\Lib\\site-packages\\sklearn\\utils\\optimize.py:74: LineSearchWarning: The line search algorithm did not converge\n",
      "  ret = line_search_wolfe2(\n"
     ]
    },
    {
     "name": "stdout",
     "output_type": "stream",
     "text": [
      "Accuracy: 0.9695\n"
     ]
    },
    {
     "data": {
      "image/png": "[encoded data removed]",
      "text/plain": [
       "<Figure size 1000x400 with 2 Axes>"
      ]
     },
     "metadata": {},
     "output_type": "display_data"
    }
   ],
   "source": [
    "# Cross Validation: Validation Set Approach\n",
    "\n",
    "X, Y = np.meshgrid(p_order, r_state, indexing='ij')\n",
    "Z = np.zeros((p_order.size,r_state.size))\n",
    "\n",
    "X_train, X_test, y_train, y_test = train_test_split(X_, y, test_size=0.2, random_state=42)\n",
    "\n",
    "clf = skl_lm.LogisticRegression(solver='newton-cg')\n",
    "\n",
    "clf.fit(X_train, y_train)\n",
    "\n",
    "y_pred = clf.predict(X_test)\n",
    "\n",
    "Z[i,j]= mean_squared_error(y_test, pred)\n",
    "fig, (ax1, ax2) = plt.subplots(1,2, figsize=(10,4))\n",
    "\n",
    "# Left plot (first split)\n",
    "ax1.plot(X.T[0],Z.T[0], '-o')\n",
    "ax1.set_title('Random split of the data set')\n",
    "\n",
    "# Right plot (all splits)\n",
    "ax2.plot(X,Z)\n",
    "ax2.set_title('10 random splits of the data set')\n",
    "\n",
    "#for ax in fig.axes:\n",
    "#    ax.set_ylabel('Mean Squared Error')\n",
    "#    ax.set_ylim(15,30)\n",
    "#    ax.set_xlabel('Degree of Polynomial')\n",
    "#    ax.set_xlim(0.5,10.5)\n",
    "#    ax.set_xticks(range(2,11,2));\n",
    "#\n",
    "#accuracy = accuracy_score(y_test, y_pred)\n",
    "print(\"Accuracy:\", accuracy)"
   ]
  },
  {
   "cell_type": "raw",
   "id": "7a960421-ff2c-4c02-802c-46ae78725701",
   "metadata": {},
   "source": [
    "p_order = np.arange(1,11)\n",
    "r_state = np.arange(0,10)\n",
    "\n",
    "# LeaveOneOut CV\n",
    "clf = skl_lm.LinearRegression()\n",
    "loo = LeaveOneOut()\n",
    "loo.get_n_splits(df)\n",
    "scores = list()\n",
    "\n",
    "for i in p_order:\n",
    "    poly = PolynomialFeatures(i)\n",
    "    X_poly = poly.fit_transform(df.balance.values.reshape(-1,1))\n",
    "    score = cross_val_score(clf, X_poly, df.income, cv=loo, scoring='neg_mean_squared_error').mean()\n",
    "    scores.append(score)"
   ]
  },
  {
   "cell_type": "code",
   "execution_count": null,
   "id": "f57b372e-bcf9-429e-bea5-e233bd716cd2",
   "metadata": {},
   "outputs": [],
   "source": []
  }
 ],
 "metadata": {
  "kernelspec": {
   "display_name": "Python 3 (ipykernel)",
   "language": "python",
   "name": "python3"
  },
  "language_info": {
   "codemirror_mode": {
    "name": "ipython",
    "version": 3
   },
   "file_extension": ".py",
   "mimetype": "text/x-python",
   "name": "python",
   "nbconvert_exporter": "python",
   "pygments_lexer": "ipython3",
   "version": "3.11.5"
  }
 },
 "nbformat": 4,
 "nbformat_minor": 5
}
