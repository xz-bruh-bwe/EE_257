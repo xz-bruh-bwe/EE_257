{
 "cells": [
  {
   "cell_type": "code",
   "execution_count": 11,
   "id": "945a000c-b955-4393-bc6d-2f5a287ff7c5",
   "metadata": {},
   "outputs": [
    {
     "name": "stdout",
     "output_type": "stream",
     "text": [
      "DONE\n"
     ]
    }
   ],
   "source": [
    "import pandas as pd\n",
    "import matplotlib.pyplot as plt\n",
    "from pandas.plotting import scatter_matrix\n",
    "import numpy as np\n",
    "\n",
    "dataset = pd.read_csv(\"Advertising.csv\", index_col = 0) # Use the first column (indexed 0) as the index of the rows\n",
    "print(\"DONE\")"
   ]
  },
  {
   "cell_type": "code",
   "execution_count": 12,
   "id": "ff6a04fb-01f8-4019-af50-75c471b091fb",
   "metadata": {},
   "outputs": [
    {
     "data": {
      "text/html": [
       "<div>\n",
       "<style scoped>\n",
       "    .dataframe tbody tr th:only-of-type {\n",
       "        vertical-align: middle;\n",
       "    }\n",
       "\n",
       "    .dataframe tbody tr th {\n",
       "        vertical-align: top;\n",
       "    }\n",
       "\n",
       "    .dataframe thead th {\n",
       "        text-align: right;\n",
       "    }\n",
       "</style>\n",
       "<table border=\"1\" class=\"dataframe\">\n",
       "  <thead>\n",
       "    <tr style=\"text-align: right;\">\n",
       "      <th></th>\n",
       "      <th>TV</th>\n",
       "      <th>radio</th>\n",
       "      <th>newspaper</th>\n",
       "      <th>sales</th>\n",
       "    </tr>\n",
       "  </thead>\n",
       "  <tbody>\n",
       "    <tr>\n",
       "      <th>1</th>\n",
       "      <td>230.1</td>\n",
       "      <td>37.8</td>\n",
       "      <td>69.2</td>\n",
       "      <td>22.1</td>\n",
       "    </tr>\n",
       "    <tr>\n",
       "      <th>2</th>\n",
       "      <td>44.5</td>\n",
       "      <td>39.3</td>\n",
       "      <td>45.1</td>\n",
       "      <td>10.4</td>\n",
       "    </tr>\n",
       "    <tr>\n",
       "      <th>3</th>\n",
       "      <td>17.2</td>\n",
       "      <td>45.9</td>\n",
       "      <td>69.3</td>\n",
       "      <td>9.3</td>\n",
       "    </tr>\n",
       "    <tr>\n",
       "      <th>4</th>\n",
       "      <td>151.5</td>\n",
       "      <td>41.3</td>\n",
       "      <td>58.5</td>\n",
       "      <td>18.5</td>\n",
       "    </tr>\n",
       "    <tr>\n",
       "      <th>5</th>\n",
       "      <td>180.8</td>\n",
       "      <td>10.8</td>\n",
       "      <td>58.4</td>\n",
       "      <td>12.9</td>\n",
       "    </tr>\n",
       "  </tbody>\n",
       "</table>\n",
       "</div>"
      ],
      "text/plain": [
       "      TV  radio  newspaper  sales\n",
       "1  230.1   37.8       69.2   22.1\n",
       "2   44.5   39.3       45.1   10.4\n",
       "3   17.2   45.9       69.3    9.3\n",
       "4  151.5   41.3       58.5   18.5\n",
       "5  180.8   10.8       58.4   12.9"
      ]
     },
     "execution_count": 12,
     "metadata": {},
     "output_type": "execute_result"
    }
   ],
   "source": [
    "dataset.head() # QUick Summary of the contents in the data set\n"
   ]
  },
  {
   "cell_type": "code",
   "execution_count": 13,
   "id": "ce41bde1-3e3f-46e9-a7bb-9aef45967c3a",
   "metadata": {
    "scrolled": true
   },
   "outputs": [
    {
     "name": "stdout",
     "output_type": "stream",
     "text": [
      "<class 'pandas.core.frame.DataFrame'>\n",
      "Index: 200 entries, 1 to 200\n",
      "Data columns (total 4 columns):\n",
      " #   Column     Non-Null Count  Dtype  \n",
      "---  ------     --------------  -----  \n",
      " 0   TV         200 non-null    float64\n",
      " 1   radio      200 non-null    float64\n",
      " 2   newspaper  200 non-null    float64\n",
      " 3   sales      200 non-null    float64\n",
      "dtypes: float64(4)\n",
      "memory usage: 7.8 KB\n"
     ]
    }
   ],
   "source": [
    "dataset.info() # More useful information\n"
   ]
  },
  {
   "cell_type": "code",
   "execution_count": 14,
   "id": "192d1e9a-5af4-44ff-b1c9-cc92945ea53f",
   "metadata": {
    "scrolled": true
   },
   "outputs": [
    {
     "data": {
      "text/html": [
       "<div>\n",
       "<style scoped>\n",
       "    .dataframe tbody tr th:only-of-type {\n",
       "        vertical-align: middle;\n",
       "    }\n",
       "\n",
       "    .dataframe tbody tr th {\n",
       "        vertical-align: top;\n",
       "    }\n",
       "\n",
       "    .dataframe thead th {\n",
       "        text-align: right;\n",
       "    }\n",
       "</style>\n",
       "<table border=\"1\" class=\"dataframe\">\n",
       "  <thead>\n",
       "    <tr style=\"text-align: right;\">\n",
       "      <th></th>\n",
       "      <th>TV</th>\n",
       "      <th>radio</th>\n",
       "      <th>newspaper</th>\n",
       "      <th>sales</th>\n",
       "    </tr>\n",
       "  </thead>\n",
       "  <tbody>\n",
       "    <tr>\n",
       "      <th>count</th>\n",
       "      <td>200.000000</td>\n",
       "      <td>200.000000</td>\n",
       "      <td>200.000000</td>\n",
       "      <td>200.000000</td>\n",
       "    </tr>\n",
       "    <tr>\n",
       "      <th>mean</th>\n",
       "      <td>147.042500</td>\n",
       "      <td>23.264000</td>\n",
       "      <td>30.554000</td>\n",
       "      <td>14.022500</td>\n",
       "    </tr>\n",
       "    <tr>\n",
       "      <th>std</th>\n",
       "      <td>85.854236</td>\n",
       "      <td>14.846809</td>\n",
       "      <td>21.778621</td>\n",
       "      <td>5.217457</td>\n",
       "    </tr>\n",
       "    <tr>\n",
       "      <th>min</th>\n",
       "      <td>0.700000</td>\n",
       "      <td>0.000000</td>\n",
       "      <td>0.300000</td>\n",
       "      <td>1.600000</td>\n",
       "    </tr>\n",
       "    <tr>\n",
       "      <th>25%</th>\n",
       "      <td>74.375000</td>\n",
       "      <td>9.975000</td>\n",
       "      <td>12.750000</td>\n",
       "      <td>10.375000</td>\n",
       "    </tr>\n",
       "    <tr>\n",
       "      <th>50%</th>\n",
       "      <td>149.750000</td>\n",
       "      <td>22.900000</td>\n",
       "      <td>25.750000</td>\n",
       "      <td>12.900000</td>\n",
       "    </tr>\n",
       "    <tr>\n",
       "      <th>75%</th>\n",
       "      <td>218.825000</td>\n",
       "      <td>36.525000</td>\n",
       "      <td>45.100000</td>\n",
       "      <td>17.400000</td>\n",
       "    </tr>\n",
       "    <tr>\n",
       "      <th>max</th>\n",
       "      <td>296.400000</td>\n",
       "      <td>49.600000</td>\n",
       "      <td>114.000000</td>\n",
       "      <td>27.000000</td>\n",
       "    </tr>\n",
       "  </tbody>\n",
       "</table>\n",
       "</div>"
      ],
      "text/plain": [
       "               TV       radio   newspaper       sales\n",
       "count  200.000000  200.000000  200.000000  200.000000\n",
       "mean   147.042500   23.264000   30.554000   14.022500\n",
       "std     85.854236   14.846809   21.778621    5.217457\n",
       "min      0.700000    0.000000    0.300000    1.600000\n",
       "25%     74.375000    9.975000   12.750000   10.375000\n",
       "50%    149.750000   22.900000   25.750000   12.900000\n",
       "75%    218.825000   36.525000   45.100000   17.400000\n",
       "max    296.400000   49.600000  114.000000   27.000000"
      ]
     },
     "execution_count": 14,
     "metadata": {},
     "output_type": "execute_result"
    }
   ],
   "source": [
    "dataset.describe() # Provide Summary Statistics"
   ]
  },
  {
   "cell_type": "code",
   "execution_count": 15,
   "id": "28ea7874-7820-4fbe-9790-aba6bb9f9f88",
   "metadata": {},
   "outputs": [
    {
     "data": {
      "text/plain": [
       "(200, 1)"
      ]
     },
     "execution_count": 15,
     "metadata": {},
     "output_type": "execute_result"
    }
   ],
   "source": [
    "X = np.c_[np.ones((200, 1)), dataset[\"TV\"].values]\n",
    "\n",
    "y = dataset[\"sales\"].values.reshape((200,1)) \n",
    "\n",
    "y.shape # What is this code block doing?"
   ]
  },
  {
   "cell_type": "code",
   "execution_count": 16,
   "id": "1c3dd17c-0c05-4e0d-840d-64ac0bc17151",
   "metadata": {},
   "outputs": [
    {
     "data": {
      "text/plain": [
       "array([[7.03259355],\n",
       "       [0.04753664]])"
      ]
     },
     "execution_count": 16,
     "metadata": {},
     "output_type": "execute_result"
    }
   ],
   "source": [
    "## Linear Regression using Normal Equations\n",
    "import numpy as np\n",
    "\n",
    "w_opt = np.linalg.inv((X.T).dot(X)).dot(X.T).dot(y)\n",
    "\n",
    "w_opt"
   ]
  },
  {
   "cell_type": "code",
   "execution_count": 20,
   "id": "20e48a12-029e-46c9-9e67-fdf94d177828",
   "metadata": {
    "scrolled": true
   },
   "outputs": [
    {
     "data": {
      "text/plain": [
       "(array([7.03259355]), array([[0.        , 0.04753664]]))"
      ]
     },
     "execution_count": 20,
     "metadata": {},
     "output_type": "execute_result"
    }
   ],
   "source": [
    "## Using SKLEARN Linear Regression\n",
    "from sklearn.linear_model import LinearRegression\n",
    "lin_reg = LinearRegression()\n",
    "lin_reg.fit(X, y)\n",
    "lin_reg.intercept_, lin_reg.coef_## part-b\n"
   ]
  },
  {
   "cell_type": "code",
   "execution_count": 23,
   "id": "ba9edd9a-fc23-4483-85f5-5f1092da102c",
   "metadata": {
    "scrolled": true
   },
   "outputs": [
    {
     "name": "stdout",
     "output_type": "stream",
     "text": [
      "                            OLS Regression Results                            \n",
      "==============================================================================\n",
      "Dep. Variable:                  sales   R-squared:                       0.612\n",
      "Model:                            OLS   Adj. R-squared:                  0.610\n",
      "Method:                 Least Squares   F-statistic:                     312.1\n",
      "Date:                Mon, 26 Feb 2024   Prob (F-statistic):           1.47e-42\n",
      "Time:                        20:13:15   Log-Likelihood:                -519.05\n",
      "No. Observations:                 200   AIC:                             1042.\n",
      "Df Residuals:                     198   BIC:                             1049.\n",
      "Df Model:                           1                                         \n",
      "Covariance Type:            nonrobust                                         \n",
      "==============================================================================\n",
      "                 coef    std err          t      P>|t|      [0.025      0.975]\n",
      "------------------------------------------------------------------------------\n",
      "Intercept      7.0326      0.458     15.360      0.000       6.130       7.935\n",
      "TV             0.0475      0.003     17.668      0.000       0.042       0.053\n",
      "==============================================================================\n",
      "Omnibus:                        0.531   Durbin-Watson:                   1.935\n",
      "Prob(Omnibus):                  0.767   Jarque-Bera (JB):                0.669\n",
      "Skew:                          -0.089   Prob(JB):                        0.716\n",
      "Kurtosis:                       2.779   Cond. No.                         338.\n",
      "==============================================================================\n",
      "\n",
      "Notes:\n",
      "[1] Standard Errors assume that the covariance matrix of the errors is correctly specified.\n"
     ]
    }
   ],
   "source": [
    "\n",
    "## Using Statistical Library\n",
    "import statsmodels.formula.api as sm\n",
    "results = sm.ols('sales ~ TV', dataset).fit()\n",
    "print(results.summary())\n",
    "\n",
    "## P >|t|  is p-value"
   ]
  },
  {
   "cell_type": "code",
   "execution_count": 22,
   "id": "28a7fbe0-13e1-4f97-b257-9d3773886efa",
   "metadata": {
    "scrolled": true
   },
   "outputs": [
    {
     "name": "stdout",
     "output_type": "stream",
     "text": [
      "RSS = [11596.1078308]\n"
     ]
    },
    {
     "data": {
      "image/png": "[encoded data removed]",
      "text/plain": [
       "<Figure size 640x480 with 1 Axes>"
      ]
     },
     "metadata": {},
     "output_type": "display_data"
    }
   ],
   "source": [
    "%matplotlib inline\n",
    "\n",
    "## part-b (display)\n",
    "import matplotlib.pyplot as plt \n",
    "\n",
    "\n",
    "x_line = np.arange(0, np.max(dataset[\"TV\"]))\n",
    "y_line = x_line * w_opt[1,0] + w_opt[0,0] \n",
    "\n",
    "plt.plot(x_line, y_line, color =\"r\", label='regression line') # labeling\n",
    "\n",
    "plt.scatter(dataset[\"TV\"].values, dataset[\"sales\"].values, label='data points')\n",
    "plt.xlabel('TV')\n",
    "plt.ylabel('Sales')\n",
    "plt.legend(loc='upper left')\n",
    "\n",
    "RSSTV = sum((X.dot(w_opt)-y)**2)\n",
    "\n",
    "print(\"RSS =\", RSSTV)"
   ]
  },
  {
   "cell_type": "code",
   "execution_count": 20,
   "id": "e03f48df-7927-4fa3-8aae-0aad2494655f",
   "metadata": {
    "scrolled": true
   },
   "outputs": [
    {
     "name": "stdout",
     "output_type": "stream",
     "text": [
      "RSS = [3618.47954903]\n"
     ]
    },
    {
     "data": {
      "image/png": "[encoded data removed]",
      "text/plain": [
       "<Figure size 640x480 with 1 Axes>"
      ]
     },
     "metadata": {},
     "output_type": "display_data"
    }
   ],
   "source": [
    "## part-d (Sales vs Radio)\n",
    "X = np.c_[np.ones((200, 1)), dataset[\"radio\"].values]\n",
    "y = dataset[\"sales\"].values.reshape((200,1))\n",
    "\n",
    "w_opt1 = np.linalg.inv((X.T).dot(X)).dot(X.T).dot(y)\n",
    "\n",
    "\n",
    "x_line = np.arange(0, np.max(dataset[\"radio\"]))\n",
    "y_line = x_line * w_opt1[1,0] + w_opt1[0,0] \n",
    "plt.plot(x_line, y_line, color =\"r\", label='regression line')\n",
    "plt.scatter(dataset[\"radio\"].values, dataset[\"sales\"].values, label='data points')\n",
    "plt.xlabel('Radio')\n",
    "plt.ylabel('Sales')\n",
    "plt.legend(loc='upper left')\n",
    "\n",
    "RSSRadio = sum((X.dot(w_opt1)-y)**2)\n",
    "print(\"RSS =\", RSSRadio)"
   ]
  },
  {
   "cell_type": "code",
   "execution_count": 25,
   "id": "f27876b0-d39b-4761-b88d-7deca4484278",
   "metadata": {},
   "outputs": [
    {
     "name": "stdout",
     "output_type": "stream",
     "text": [
      "RSS = [5134.80454411]\n"
     ]
    },
    {
     "data": {
      "image/png": "[encoded data removed]",
      "text/plain": [
       "<Figure size 640x480 with 1 Axes>"
      ]
     },
     "metadata": {},
     "output_type": "display_data"
    }
   ],
   "source": [
    "## part-d (Sales vs Newspaper)\n",
    "X = np.c_[np.ones((200, 1)), dataset[\"newspaper\"].values]\n",
    "y = dataset[\"sales\"].values.reshape((200,1))\n",
    "\n",
    "w_opt2 = np.linalg.inv((X.T).dot(X)).dot(X.T).dot(y)\n",
    "\n",
    "\n",
    "x_line = np.arange(0, np.max(dataset[\"newspaper\"]))\n",
    "y_line = x_line * w_opt2[1,0] + w_opt2[0,0] \n",
    "plt.plot(x_line, y_line, color =\"r\", label='regression line')\n",
    "plt.scatter(dataset[\"newspaper\"].values, dataset[\"sales\"].values, label='data points')\n",
    "plt.xlabel('Newspaper')\n",
    "plt.ylabel('Sales')\n",
    "plt.legend(loc='upper left')\n",
    "\n",
    "RSSNewspaper = sum((X.dot(w_opt2)-y)**2)\n",
    "print(\"RSS =\", RSSNewspaper)"
   ]
  },
  {
   "cell_type": "code",
   "execution_count": 27,
   "id": "837a5be5-b22b-49eb-9b0a-9a770f3a4760",
   "metadata": {},
   "outputs": [
    {
     "name": "stdout",
     "output_type": "stream",
     "text": [
      "RSSALL = [556.8252629]\n",
      "Coefficients = [[ 2.93888937e+00]\n",
      " [ 4.57646455e-02]\n",
      " [ 1.88530017e-01]\n",
      " [-1.03749304e-03]]\n",
      "RSSTV = [11596.1078308]\n",
      "CoefficientTV = [[7.03259355]\n",
      " [0.04753664]]\n",
      "RSSRadio = [3618.47954903]\n",
      "CoefficientRadio = [[9.3116381 ]\n",
      " [0.20249578]]\n",
      "RSSNewspaper = [5134.80454411]\n",
      "CoefficientTV = [[12.35140707]\n",
      " [ 0.0546931 ]]\n"
     ]
    }
   ],
   "source": [
    "# PROBLEM 5 - Multiple linear regression\n",
    "X = np.c_[np.ones((200, 1)), dataset[[\"TV\",\"radio\",\"newspaper\"]].values]\n",
    "y = dataset[\"sales\"].values.reshape((200,1))\n",
    "\n",
    "w_optALL = np.linalg.inv((X.T).dot(X)).dot(X.T).dot(y)\n",
    "RSSALL = sum((X.dot(w_optALL)-y)**2)\n",
    "\n",
    "print(\"RSSALL =\", RSSALL)\n",
    "print(\"Coefficients =\", w_optALL)\n",
    "\n",
    "print(\"RSSTV =\", RSSTV)\n",
    "print(\"CoefficientTV =\", w_opt)\n",
    "\n",
    "\n",
    "print(\"RSSRadio =\", RSSRadio)\n",
    "print(\"CoefficientRadio =\", w_opt1)\n",
    "\n",
    "\n",
    "print(\"RSSNewspaper =\", RSSNewspaper)\n",
    "print(\"CoefficientTV =\", w_opt2)"
   ]
  },
  {
   "cell_type": "code",
   "execution_count": 28,
   "id": "c4ece903-eb36-4ede-87ab-e13f53284df2",
   "metadata": {
    "scrolled": true
   },
   "outputs": [
    {
     "name": "stdout",
     "output_type": "stream",
     "text": [
      "                            OLS Regression Results                            \n",
      "==============================================================================\n",
      "Dep. Variable:                  sales   R-squared:                       0.897\n",
      "Model:                            OLS   Adj. R-squared:                  0.896\n",
      "Method:                 Least Squares   F-statistic:                     570.3\n",
      "Date:                Mon, 26 Feb 2024   Prob (F-statistic):           1.58e-96\n",
      "Time:                        20:18:03   Log-Likelihood:                -386.18\n",
      "No. Observations:                 200   AIC:                             780.4\n",
      "Df Residuals:                     196   BIC:                             793.6\n",
      "Df Model:                           3                                         \n",
      "Covariance Type:            nonrobust                                         \n",
      "==============================================================================\n",
      "                 coef    std err          t      P>|t|      [0.025      0.975]\n",
      "------------------------------------------------------------------------------\n",
      "Intercept      2.9389      0.312      9.422      0.000       2.324       3.554\n",
      "TV             0.0458      0.001     32.809      0.000       0.043       0.049\n",
      "radio          0.1885      0.009     21.893      0.000       0.172       0.206\n",
      "newspaper     -0.0010      0.006     -0.177      0.860      -0.013       0.011\n",
      "==============================================================================\n",
      "Omnibus:                       60.414   Durbin-Watson:                   2.084\n",
      "Prob(Omnibus):                  0.000   Jarque-Bera (JB):              151.241\n",
      "Skew:                          -1.327   Prob(JB):                     1.44e-33\n",
      "Kurtosis:                       6.332   Cond. No.                         454.\n",
      "==============================================================================\n",
      "\n",
      "Notes:\n",
      "[1] Standard Errors assume that the covariance matrix of the errors is correctly specified.\n"
     ]
    }
   ],
   "source": [
    "## Multiple Linear Regression  Using Statistical Library\n",
    "import statsmodels.formula.api as sm\n",
    "results = sm.ols('sales ~ TV + radio + newspaper', dataset).fit() # how to include all of the data points\n",
    "print(results.summary())\n",
    "\n",
    "## P >|t|  is p-value"
   ]
  },
  {
   "cell_type": "code",
   "execution_count": 31,
   "id": "6fa2fa45-b277-443f-bd62-6471f6a57f6c",
   "metadata": {},
   "outputs": [
    {
     "name": "stdout",
     "output_type": "stream",
     "text": [
      "                 TV     radio  newspaper     sales\n",
      "TV         1.000000  0.054809   0.056648  0.782224\n",
      "radio      0.054809  1.000000   0.354104  0.576223\n",
      "newspaper  0.056648  0.354104   1.000000  0.228299\n",
      "sales      0.782224  0.576223   0.228299  1.000000\n"
     ]
    },
    {
     "data": {
      "text/html": [
       "<div>\n",
       "<style scoped>\n",
       "    .dataframe tbody tr th:only-of-type {\n",
       "        vertical-align: middle;\n",
       "    }\n",
       "\n",
       "    .dataframe tbody tr th {\n",
       "        vertical-align: top;\n",
       "    }\n",
       "\n",
       "    .dataframe thead th {\n",
       "        text-align: right;\n",
       "    }\n",
       "</style>\n",
       "<table border=\"1\" class=\"dataframe\">\n",
       "  <thead>\n",
       "    <tr style=\"text-align: right;\">\n",
       "      <th></th>\n",
       "      <th>TV</th>\n",
       "      <th>radio</th>\n",
       "      <th>newspaper</th>\n",
       "      <th>sales</th>\n",
       "    </tr>\n",
       "  </thead>\n",
       "  <tbody>\n",
       "    <tr>\n",
       "      <th>TV</th>\n",
       "      <td>1.000000</td>\n",
       "      <td>0.054809</td>\n",
       "      <td>0.056648</td>\n",
       "      <td>0.782224</td>\n",
       "    </tr>\n",
       "    <tr>\n",
       "      <th>radio</th>\n",
       "      <td>0.054809</td>\n",
       "      <td>1.000000</td>\n",
       "      <td>0.354104</td>\n",
       "      <td>0.576223</td>\n",
       "    </tr>\n",
       "    <tr>\n",
       "      <th>newspaper</th>\n",
       "      <td>0.056648</td>\n",
       "      <td>0.354104</td>\n",
       "      <td>1.000000</td>\n",
       "      <td>0.228299</td>\n",
       "    </tr>\n",
       "    <tr>\n",
       "      <th>sales</th>\n",
       "      <td>0.782224</td>\n",
       "      <td>0.576223</td>\n",
       "      <td>0.228299</td>\n",
       "      <td>1.000000</td>\n",
       "    </tr>\n",
       "  </tbody>\n",
       "</table>\n",
       "</div>"
      ],
      "text/plain": [
       "                 TV     radio  newspaper     sales\n",
       "TV         1.000000  0.054809   0.056648  0.782224\n",
       "radio      0.054809  1.000000   0.354104  0.576223\n",
       "newspaper  0.056648  0.354104   1.000000  0.228299\n",
       "sales      0.782224  0.576223   0.228299  1.000000"
      ]
     },
     "execution_count": 31,
     "metadata": {},
     "output_type": "execute_result"
    }
   ],
   "source": [
    "corr_matrix = dataset.corr()\n",
    "print(corr_matrix)\n",
    "corr_matrix\n"
   ]
  },
  {
   "cell_type": "code",
   "execution_count": null,
   "id": "30151a5d-758d-4ba0-87f9-4f9a54880e88",
   "metadata": {},
   "outputs": [],
   "source": []
  }
 ],
 "metadata": {
  "kernelspec": {
   "display_name": "Python 3 (ipykernel)",
   "language": "python",
   "name": "python3"
  },
  "language_info": {
   "codemirror_mode": {
    "name": "ipython",
    "version": 3
   },
   "file_extension": ".py",
   "mimetype": "text/x-python",
   "name": "python",
   "nbconvert_exporter": "python",
   "pygments_lexer": "ipython3",
   "version": "3.11.5"
  }
 },
 "nbformat": 4,
 "nbformat_minor": 5
}
