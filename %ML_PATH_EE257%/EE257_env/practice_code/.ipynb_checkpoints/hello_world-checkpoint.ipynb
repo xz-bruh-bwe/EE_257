{
 "cells": [
  {
   "cell_type": "code",
   "execution_count": 1,
   "id": "7b67ed77-c860-4f63-a85e-41b4f6be4ef1",
   "metadata": {},
   "outputs": [
    {
     "name": "stdout",
     "output_type": "stream",
     "text": [
      "hello world!!\n"
     ]
    }
   ],
   "source": [
    "print(\"hello world!!\")"
   ]
  },
  {
   "cell_type": "code",
   "execution_count": 2,
   "id": "18e6e013-2ffb-4a75-9d81-a2d031329b2a",
   "metadata": {},
   "outputs": [
    {
     "name": "stdout",
     "output_type": "stream",
     "text": [
      "hello from the other side\n"
     ]
    }
   ],
   "source": [
    "print(\"hello from the other side\")"
   ]
  },
  {
   "cell_type": "code",
   "execution_count": 4,
   "id": "5ae6010d-d30f-4036-b1ad-8e06ce310301",
   "metadata": {},
   "outputs": [
    {
     "data": {
      "text/plain": [
       "4"
      ]
     },
     "execution_count": 4,
     "metadata": {},
     "output_type": "execute_result"
    }
   ],
   "source": [
    "2+2"
   ]
  },
  {
   "cell_type": "code",
   "execution_count": null,
   "id": "0e91f828-f075-41df-8fd6-78f79cd5854b",
   "metadata": {},
   "outputs": [],
   "source": []
  },
  {
   "cell_type": "code",
   "execution_count": null,
   "id": "54ca7a1b-691e-4b50-89f1-9af192336100",
   "metadata": {},
   "outputs": [],
   "source": []
  },
  {
   "cell_type": "code",
   "execution_count": null,
   "id": "ca298279-2bd5-499d-8e38-658e3cb25f0a",
   "metadata": {},
   "outputs": [],
   "source": []
  },
  {
   "cell_type": "code",
   "execution_count": null,
   "id": "3d04e74f-ce07-43bd-8241-3a6c79bab4a7",
   "metadata": {},
   "outputs": [],
   "source": []
  },
  {
   "cell_type": "code",
   "execution_count": null,
   "id": "26a048db-eb25-4a69-87d6-2cb835aaa3cc",
   "metadata": {},
   "outputs": [],
   "source": []
  },
  {
   "cell_type": "code",
   "execution_count": null,
   "id": "7e4221ce-aa0c-468f-9a38-3662e168dd80",
   "metadata": {},
   "outputs": [],
   "source": []
  }
 ],
 "metadata": {
  "kernelspec": {
   "display_name": "Python 3 (ipykernel)",
   "language": "python",
   "name": "python3"
  },
  "language_info": {
   "codemirror_mode": {
    "name": "ipython",
    "version": 3
   },
   "file_extension": ".py",
   "mimetype": "text/x-python",
   "name": "python",
   "nbconvert_exporter": "python",
   "pygments_lexer": "ipython3",
   "version": "3.11.5"
  }
 },
 "nbformat": 4,
 "nbformat_minor": 5
}
